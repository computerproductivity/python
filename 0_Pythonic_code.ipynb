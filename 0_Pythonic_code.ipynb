{
 "cells": [
  {
   "cell_type": "markdown",
   "metadata": {},
   "source": [
    "# Python style\n",
    "\n",
    "References:\n",
    "- [Google style](https://google.github.io/styleguide/pyguide.html)\n",
    "- [black](https://github.com/ambv/black)\n",
    "- [PEP8 style guide](https://www.python.org/dev/peps/pep-0008/)\n",
    "\n",
    "\n",
    "![docstrings](images/docstrings.png)\n",
    "\n",
    "\n",
    "# Google style docstrings\n",
    "\n",
    "``` python\n",
    "def func(arg1, arg2):\n",
    "    \"\"\"Summary line.\n",
    "\n",
    "    Extended description of function.\n",
    "\n",
    "    Args:\n",
    "        arg1 (int): Description of arg1\n",
    "        arg2 (str): Description of arg2\n",
    "\n",
    "    Returns:\n",
    "        bool: Description of return value\n",
    "\n",
    "    \"\"\"\n",
    "    return True\n",
    "\n",
    "```\n",
    "\n",
    "---\n",
    "\n",
    "# Numpy style\n",
    "\n",
    "``` python\n",
    "def func(arg1, arg2):\n",
    "    \"\"\"Summary line.\n",
    "\n",
    "    Extended description of function.\n",
    "\n",
    "    Parameters\n",
    "    ----------\n",
    "    arg1 : int\n",
    "        Description of arg1\n",
    "    arg2 : str\n",
    "        Description of arg2\n",
    "\n",
    "    Returns\n",
    "    -------\n",
    "    bool\n",
    "        Description of return value\n",
    "\n",
    "    \"\"\"\n",
    "    return True\n",
    "\n",
    "```\n",
    "\n",
    "\n",
    "# Code readability\n",
    "Code is read many more times than written!\n",
    "In many cases, that person is probably going to be you, six months from now.\n",
    "\n",
    "- [pep8](https://pep8.org/)\n",
    "- black: autoformatter\n",
    "- pylint/pyflakes: syntax checker"
   ]
  },
  {
   "cell_type": "markdown",
   "metadata": {},
   "source": [
    "Lets made this code more readable"
   ]
  },
  {
   "cell_type": "code",
   "execution_count": null,
   "metadata": {},
   "outputs": [],
   "source": [
    "def GetArea(l, w):\n",
    "    return l*w\n",
    "\n",
    "l=3\n",
    "w=4\n",
    "A=GetArea(l,w)"
   ]
  },
  {
   "cell_type": "markdown",
   "metadata": {},
   "source": [
    "- Add information to name variables\n",
    "- functions_names separated with underscores\n",
    "- space between parenthesis and variables"
   ]
  },
  {
   "cell_type": "code",
   "execution_count": null,
   "metadata": {},
   "outputs": [],
   "source": [
    "def area_rectangle(length, width):\n",
    "    return length*width\n",
    "\n",
    "length = 3\n",
    "width = 4\n",
    "area = area_rectangle(length, width)"
   ]
  },
  {
   "cell_type": "markdown",
   "metadata": {},
   "source": [
    "# Style guides\n",
    "\n",
    "- [PEP8](https://www.python.org/dev/peps/pep-0008/)\n",
    "- [Google Python Style Guide](https://google.github.io/styleguide/pyguide.html)\n",
    "\n",
    "Formatting tools:\n",
    "- [black]()\n",
    "- [pep8, flake8](http://flake8.pycqa.org/en/latest/index.html)\n",
    "- [pylint](https://www.pylint.org/)"
   ]
  },
  {
   "cell_type": "markdown",
   "metadata": {},
   "source": [
    "Classes follow CamlelCase names"
   ]
  },
  {
   "cell_type": "code",
   "execution_count": null,
   "metadata": {},
   "outputs": [],
   "source": [
    "class SampleClass(object):\n",
    "    \"\"\"Summary of class here.\n",
    "\n",
    "    Longer class information....\n",
    "\n",
    "    Attributes:\n",
    "        likes_spam: A boolean indicating if we like SPAM or not.\n",
    "        eggs: An integer count of the eggs we have laid.\n",
    "    \"\"\"\n",
    "\n",
    "    def __init__(self, likes_spam=False):\n",
    "        \"\"\"Inits SampleClass with blah.\"\"\"\n",
    "        self.likes_spam = likes_spam\n",
    "        self.eggs = 0\n",
    "\n",
    "    def public_method(self):\n",
    "        \"\"\"Performs operation blah.\"\"\""
   ]
  },
  {
   "cell_type": "markdown",
   "metadata": {},
   "source": [
    "Write function names in lowercase separated with underscores "
   ]
  },
  {
   "cell_type": "code",
   "execution_count": null,
   "metadata": {},
   "outputs": [],
   "source": [
    "def rmse(x, y):\n",
    "    return np.sqrt(((x-y)**2).mean())"
   ]
  },
  {
   "cell_type": "markdown",
   "metadata": {},
   "source": [
    "Write function names and arguments as self-explanatory as possible"
   ]
  },
  {
   "cell_type": "code",
   "execution_count": null,
   "metadata": {},
   "outputs": [],
   "source": [
    "def root_mean_square_error(observed, modelled):\n",
    "    error = observed - modelled\n",
    "    return np.sqrt((error**2).mean())"
   ]
  },
  {
   "cell_type": "markdown",
   "metadata": {},
   "source": [
    "Write Google-style docstrings"
   ]
  },
  {
   "cell_type": "code",
   "execution_count": null,
   "metadata": {},
   "outputs": [],
   "source": [
    "def root_mean_square_error(measured, simulated):\n",
    "    \"\"\"  Root Mean Square Error (RMSE)\n",
    "\n",
    "    Args:\n",
    "        measured: numpy array of measured data\n",
    "        simulated: numpy array of simulated data\n",
    "\n",
    "    Returns:\n",
    "        mean square error numpy array\n",
    "    \"\"\"\n",
    "    error = observed - modelled\n",
    "    return np.sqrt((error**2).mean())"
   ]
  },
  {
   "cell_type": "markdown",
   "metadata": {},
   "source": [
    "# PEP 8 -- Style Guide for Python Code\n",
    "\n",
    "[PEP8 style guide](https://www.python.org/dev/peps/pep-0008/)\n"
   ]
  },
  {
   "cell_type": "markdown",
   "metadata": {},
   "source": [
    "### Indentation\n",
    "\n",
    "- Four spaces (no tab!)\n",
    "- Most editors can be set to convert a tab that you type to four spaces in the file\n",
    "\n",
    "### Maximum line length\n",
    "\n",
    "- PEP8 recommends 79 characters\n",
    "- We use 88 characters (default for [black autoformatter](https://github.com/ambv/black))\n",
    "\n",
    "### Line spacing\n",
    "\n",
    "- Two blank lines around top level functions\n",
    "- Two blank lines around classes\n",
    "- One blank line between functions in a class\n",
    "- One blank line between logical groups in a function (sparingly)\n"
   ]
  },
  {
   "cell_type": "markdown",
   "metadata": {},
   "source": [
    "# No\n",
    "``` python\n",
    "a_var = 1\n",
    "def one_function():\n",
    "    return something\n",
    "def other_function():\n",
    "    return something_else\n",
    "result = one_function()\n",
    "```\n",
    "---\n",
    "\n",
    "# Yes\n",
    "``` python\n",
    "a_var = 1\n",
    "\n",
    "def one_function():\n",
    "    return something\n",
    "\n",
    "def other_function():\n",
    "    return something_else\n",
    "\n",
    "result = one_function()\n",
    "```\n"
   ]
  },
  {
   "cell_type": "markdown",
   "metadata": {},
   "source": [
    "### PEP8 Imports are typically grouped:\n",
    "\n",
    "- standard library imports\n",
    "- related third party imports\n",
    "- local application/library specific imports\n",
    "\n",
    "```\n",
    "import os\n",
    "import sys\n",
    "\n",
    "import numpy as np\n",
    "import pandas as pd\n",
    "\n",
    "import my_module\n",
    "```\n",
    "\n",
    "### PEP8: naming conventions\n",
    "Choose variable names that avoid confusion\n",
    "\n",
    "Conventions:\n",
    "\n",
    "- modules/packages: short, lowercase (underscore)\n",
    "- classes: CamelCase (no underscores)\n",
    "- functions: lowercase, underscores\n",
    "- variables: lowercase, underscores\n",
    "- constants: UPPERCASE\n"
   ]
  },
  {
   "cell_type": "markdown",
   "metadata": {},
   "source": [
    "<table rules=\"all\" border=\"1\" summary=\"Guidelines from Guido's Recommendations\"\n",
    "       cellspacing=\"2\" cellpadding=\"2\">\n",
    "\n",
    "  <tr>\n",
    "    <th>Type</th>\n",
    "    <th>Public</th>\n",
    "    <th>Internal</th>\n",
    "  </tr>\n",
    "\n",
    "  <tr>\n",
    "    <td>Packages</td>\n",
    "    <td><code>lower_with_under</code></td>\n",
    "    <td></td>\n",
    "  </tr>\n",
    "\n",
    "  <tr>\n",
    "    <td>Modules</td>\n",
    "    <td><code>lower_with_under</code></td>\n",
    "    <td><code>_lower_with_under</code></td>\n",
    "  </tr>\n",
    "\n",
    "  <tr>\n",
    "    <td>Classes</td>\n",
    "    <td><code>CapWords</code></td>\n",
    "    <td><code>_CapWords</code></td>\n",
    "  </tr>\n",
    "\n",
    "  <tr>\n",
    "    <td>Exceptions</td>\n",
    "    <td><code>CapWords</code></td>\n",
    "    <td></td>\n",
    "  </tr>\n",
    "\n",
    "  <tr>\n",
    "    <td>Functions</td>\n",
    "    <td><code>lower_with_under()</code></td>\n",
    "    <td><code>_lower_with_under()</code></td>\n",
    "  </tr>\n",
    "\n",
    "  <tr>\n",
    "    <td>Global/Class Constants</td>\n",
    "    <td><code>CAPS_WITH_UNDER</code></td>\n",
    "    <td><code>_CAPS_WITH_UNDER</code></td>\n",
    "  </tr>\n",
    "\n",
    "  <tr>\n",
    "    <td>Global/Class Variables</td>\n",
    "    <td><code>lower_with_under</code></td>\n",
    "    <td><code>_lower_with_under</code></td>\n",
    "  </tr>\n",
    "\n",
    "  <tr>\n",
    "    <td>Instance Variables</td>\n",
    "    <td><code>lower_with_under</code></td>\n",
    "    <td><code>_lower_with_under</code> (protected)</td>\n",
    "  </tr>\n",
    "\n",
    "  <tr>\n",
    "    <td>Method Names</td>\n",
    "    <td><code>lower_with_under()</code></td>\n",
    "    <td><code>_lower_with_under()</code> (protected)</td>\n",
    "  </tr>\n",
    "\n",
    "  <tr>\n",
    "    <td>Function/Method Parameters</td>\n",
    "    <td><code>lower_with_under</code></td>\n",
    "    <td></td>\n",
    "  </tr>\n",
    "\n",
    "  <tr>\n",
    "    <td>Local Variables</td>\n",
    "    <td><code>lower_with_under</code></td>\n",
    "    <td></td>\n",
    "  </tr>\n",
    "\n",
    "</table>\n",
    "\n"
   ]
  },
  {
   "cell_type": "code",
   "execution_count": null,
   "metadata": {},
   "outputs": [],
   "source": [
    "class SampleClassDefinition(object):\n",
    "    \"\"\" Note that Classes follow CamelCase and instance of classes lower_with_under \"\"\"\n",
    "        \n",
    "sample_class_instance = SampleClassDefinition()"
   ]
  },
  {
   "cell_type": "markdown",
   "metadata": {},
   "source": [
    "### Exercise: apply PEP8 "
   ]
  },
  {
   "cell_type": "code",
   "execution_count": null,
   "metadata": {},
   "outputs": [],
   "source": [
    "from statistics import mean\n",
    "import numpy.random as nprnd\n",
    "from statistics import stdev\n",
    "def MyFunction(ARGUMENT):\n",
    "    m=mean(ARGUMENT)\n",
    "    s=stdev(ARGUMENT)\n",
    "    gt3sd = 0\n",
    "    ls3sd = 0\n",
    "    for m in ARGUMENT:\n",
    "        if m > m + (s * 2):\n",
    "            gt3sd +=1\n",
    "        elif m < m - (s * 2):\n",
    "            ls3sd +=1\n",
    "    return(gt3sd,ls3sd)\n",
    "def AnotherFunction(anumber, anothernumber):\n",
    "    l = nprnd.randint(anothernumber, size = anumber)\n",
    "    return(MyFunction(l))\n",
    "a,b=AnotherFunction( anumber = 1000, anothernumber = 1000)\n",
    "print('found %d random values greather than 2 * sd and %d less than 2 * sd' % (a, b))"
   ]
  },
  {
   "cell_type": "code",
   "execution_count": null,
   "metadata": {},
   "outputs": [],
   "source": [
    "from statistics import mean, stdev\n",
    "import numpy as np\n",
    "\n",
    "def MyFunction(ARGUMENT):\n",
    "    m=mean(ARGUMENT)\n",
    "    s=stdev(ARGUMENT)\n",
    "    gt3sd = 0\n",
    "    ls3sd = 0\n",
    "    for m in ARGUMENT:\n",
    "        if m > m + (s * 2):\n",
    "            gt3sd +=1\n",
    "        elif m < m - (s * 2):\n",
    "            ls3sd +=1\n",
    "    return(gt3sd,ls3sd)\n",
    "\n",
    "def AnotherFunction(anumber, anothernumber):\n",
    "    l = np.random.randint(anothernumber, size = anumber)\n",
    "    return(MyFunction(l))\n",
    "\n",
    "a,b=AnotherFunction( anumber = 1000, anothernumber = 1000)\n",
    "print('found %d random values greather than 2 * sd and %d less than 2 * sd' % (a, b))"
   ]
  },
  {
   "cell_type": "code",
   "execution_count": null,
   "metadata": {},
   "outputs": [],
   "source": [
    "from statistics import mean, stdev\n",
    "import numpy as np\n",
    "\n",
    "def MyFunction(ARGUMENT):\n",
    "    m = mean(ARGUMENT)\n",
    "    s = stdev(ARGUMENT)\n",
    "    gt3sd = 0\n",
    "    ls3sd = 0\n",
    "    for m in ARGUMENT:\n",
    "        if m > m + (s * 2):\n",
    "            gt3sd += 1\n",
    "        elif m < m - (s * 2):\n",
    "            ls3sd += 1\n",
    "    return gt3sd, ls3sd\n",
    "\n",
    "def AnotherFunction(anumber, anothernumber):\n",
    "    l = np.random.randint(anothernumber, size=anumber)\n",
    "    return MyFunction(l)\n",
    "\n",
    "a, b = AnotherFunction(anumber=1000, anothernumber=1000)\n",
    "print('found %d random values greather than 2 * sd and %d less than 2 * sd' % (a, b))"
   ]
  },
  {
   "cell_type": "code",
   "execution_count": null,
   "metadata": {},
   "outputs": [],
   "source": [
    "from statistics import mean, stdev\n",
    "import numpy as np\n",
    "\n",
    "def my_function(values):\n",
    "    avg = mean(values)\n",
    "    std = stdev(values)\n",
    "    gt3sd = 0\n",
    "    ls3sd = 0\n",
    "    for m in values:\n",
    "        if m > avg + (std * 2):\n",
    "            gt3sd += 1\n",
    "        elif m < avg - (std * 2):\n",
    "            ls3sd += 1\n",
    "    return gt3sd, ls3sd\n",
    "\n",
    "def another_function(highest, size):\n",
    "    random_values = np.random.randint(highest, size=size)\n",
    "    return my_function(random_values)\n",
    "\n",
    "a, b = another_function(highest=1000, size=1000)\n",
    "print('found %d random values greather than 2 * sd and %d less than 2 * sd' % (a, b))"
   ]
  },
  {
   "cell_type": "code",
   "execution_count": null,
   "metadata": {},
   "outputs": [],
   "source": []
  }
 ],
 "metadata": {
  "kernelspec": {
   "display_name": "Python 3",
   "language": "python",
   "name": "python3"
  },
  "language_info": {
   "codemirror_mode": {
    "name": "ipython",
    "version": 3
   },
   "file_extension": ".py",
   "mimetype": "text/x-python",
   "name": "python",
   "nbconvert_exporter": "python",
   "pygments_lexer": "ipython3",
   "version": "3.7.2"
  }
 },
 "nbformat": 4,
 "nbformat_minor": 2
}
